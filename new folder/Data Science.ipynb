{
 "cells": [
  {
   "cell_type": "code",
   "execution_count": null,
   "id": "4a1de4ea",
   "metadata": {},
   "outputs": [],
   "source": [
    "data= \"My name is pawan\""
   ]
  },
  {
   "cell_type": "code",
   "execution_count": 1,
   "id": "dc92e509",
   "metadata": {},
   "outputs": [
    {
     "ename": "SyntaxError",
     "evalue": "invalid syntax (4229486109.py, line 1)",
     "output_type": "error",
     "traceback": [
      "\u001b[1;36m  Cell \u001b[1;32mIn[1], line 1\u001b[1;36m\u001b[0m\n\u001b[1;33m    data=\u001b[0m\n\u001b[1;37m         ^\u001b[0m\n\u001b[1;31mSyntaxError\u001b[0m\u001b[1;31m:\u001b[0m invalid syntax\n"
     ]
    }
   ],
   "source": [
    "data="
   ]
  },
  {
   "cell_type": "code",
   "execution_count": 2,
   "id": "ae80e0df",
   "metadata": {},
   "outputs": [
    {
     "ename": "NameError",
     "evalue": "name 'data' is not defined",
     "output_type": "error",
     "traceback": [
      "\u001b[1;31m---------------------------------------------------------------------------\u001b[0m",
      "\u001b[1;31mNameError\u001b[0m                                 Traceback (most recent call last)",
      "Cell \u001b[1;32mIn[2], line 1\u001b[0m\n\u001b[1;32m----> 1\u001b[0m \u001b[43mdata\u001b[49m\n",
      "\u001b[1;31mNameError\u001b[0m: name 'data' is not defined"
     ]
    }
   ],
   "source": [
    "data"
   ]
  },
  {
   "cell_type": "code",
   "execution_count": null,
   "id": "4d9f961d",
   "metadata": {},
   "outputs": [],
   "source": [
    "data=\"my name is pawan\""
   ]
  },
  {
   "cell_type": "code",
   "execution_count": 3,
   "id": "bb855b43",
   "metadata": {},
   "outputs": [
    {
     "ename": "NameError",
     "evalue": "name 'data' is not defined",
     "output_type": "error",
     "traceback": [
      "\u001b[1;31m---------------------------------------------------------------------------\u001b[0m",
      "\u001b[1;31mNameError\u001b[0m                                 Traceback (most recent call last)",
      "Cell \u001b[1;32mIn[3], line 1\u001b[0m\n\u001b[1;32m----> 1\u001b[0m \u001b[43mdata\u001b[49m\n",
      "\u001b[1;31mNameError\u001b[0m: name 'data' is not defined"
     ]
    }
   ],
   "source": [
    "data"
   ]
  },
  {
   "cell_type": "code",
   "execution_count": 4,
   "id": "0a073ba3",
   "metadata": {},
   "outputs": [],
   "source": [
    "planet=\"earth\""
   ]
  },
  {
   "cell_type": "code",
   "execution_count": 5,
   "id": "5e51c907",
   "metadata": {},
   "outputs": [
    {
     "data": {
      "text/plain": [
       "'earth'"
      ]
     },
     "execution_count": 5,
     "metadata": {},
     "output_type": "execute_result"
    }
   ],
   "source": [
    "planet"
   ]
  },
  {
   "cell_type": "code",
   "execution_count": 6,
   "id": "66c4bdc6",
   "metadata": {},
   "outputs": [],
   "source": [
    "planet=\"earth\" \"mercury\""
   ]
  },
  {
   "cell_type": "code",
   "execution_count": 7,
   "id": "0c7b262b",
   "metadata": {},
   "outputs": [
    {
     "data": {
      "text/plain": [
       "'earthmercury'"
      ]
     },
     "execution_count": 7,
     "metadata": {},
     "output_type": "execute_result"
    }
   ],
   "source": [
    "planet"
   ]
  },
  {
   "cell_type": "code",
   "execution_count": 8,
   "id": "9032e153",
   "metadata": {},
   "outputs": [],
   "source": [
    "data=\"My Name is Pawan\""
   ]
  },
  {
   "cell_type": "code",
   "execution_count": 9,
   "id": "77dbab35",
   "metadata": {},
   "outputs": [
    {
     "name": "stdout",
     "output_type": "stream",
     "text": [
      "My Name is Pawan\n"
     ]
    }
   ],
   "source": [
    "print(data)"
   ]
  },
  {
   "cell_type": "code",
   "execution_count": 10,
   "id": "9e07c5c6",
   "metadata": {},
   "outputs": [],
   "source": [
    "pawan=(80-20)"
   ]
  },
  {
   "cell_type": "code",
   "execution_count": 11,
   "id": "57e2c422",
   "metadata": {},
   "outputs": [
    {
     "data": {
      "text/plain": [
       "60"
      ]
     },
     "execution_count": 11,
     "metadata": {},
     "output_type": "execute_result"
    }
   ],
   "source": [
    "pawan"
   ]
  },
  {
   "cell_type": "code",
   "execution_count": 14,
   "id": "02b49ef1",
   "metadata": {},
   "outputs": [],
   "source": [
    "pawan=(10-3)"
   ]
  },
  {
   "cell_type": "code",
   "execution_count": 16,
   "id": "dc42c985",
   "metadata": {},
   "outputs": [
    {
     "data": {
      "text/plain": [
       "7"
      ]
     },
     "execution_count": 16,
     "metadata": {},
     "output_type": "execute_result"
    }
   ],
   "source": [
    "pawan"
   ]
  },
  {
   "cell_type": "code",
   "execution_count": 17,
   "id": "d1498f54",
   "metadata": {},
   "outputs": [
    {
     "data": {
      "text/plain": [
       "7"
      ]
     },
     "execution_count": 17,
     "metadata": {},
     "output_type": "execute_result"
    }
   ],
   "source": [
    "pawan"
   ]
  },
  {
   "cell_type": "code",
   "execution_count": 20,
   "id": "2eec13f5",
   "metadata": {},
   "outputs": [],
   "source": [
    "pawan=(5+5)"
   ]
  },
  {
   "cell_type": "code",
   "execution_count": 23,
   "id": "143e8466",
   "metadata": {},
   "outputs": [
    {
     "data": {
      "text/plain": [
       "10"
      ]
     },
     "execution_count": 23,
     "metadata": {},
     "output_type": "execute_result"
    }
   ],
   "source": [
    "pawan"
   ]
  },
  {
   "cell_type": "code",
   "execution_count": null,
   "id": "4fe93486",
   "metadata": {},
   "outputs": [],
   "source": []
  }
 ],
 "metadata": {
  "kernelspec": {
   "display_name": "Python 3 (ipykernel)",
   "language": "python",
   "name": "python3"
  },
  "language_info": {
   "codemirror_mode": {
    "name": "ipython",
    "version": 3
   },
   "file_extension": ".py",
   "mimetype": "text/x-python",
   "name": "python",
   "nbconvert_exporter": "python",
   "pygments_lexer": "ipython3",
   "version": "3.10.9"
  }
 },
 "nbformat": 4,
 "nbformat_minor": 5
}
